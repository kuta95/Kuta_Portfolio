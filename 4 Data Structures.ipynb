{
 "cells": [
  {
   "cell_type": "markdown",
   "id": "d1f030eb",
   "metadata": {},
   "source": [
    "## Data Structures"
   ]
  },
  {
   "cell_type": "code",
   "execution_count": null,
   "id": "a4c24eb6",
   "metadata": {},
   "outputs": [],
   "source": [
    "1. List\n",
    "2. Tuples\n",
    "3. Sets \n",
    "4. Dictionary"
   ]
  },
  {
   "cell_type": "markdown",
   "id": "7ab2e0b1",
   "metadata": {},
   "source": [
    "### List"
   ]
  },
  {
   "cell_type": "code",
   "execution_count": null,
   "id": "c5292770",
   "metadata": {},
   "outputs": [],
   "source": [
    "To make a list we use [], and a list is expandable, accepts various data types"
   ]
  },
  {
   "cell_type": "code",
   "execution_count": 6,
   "id": "f5e45f10",
   "metadata": {},
   "outputs": [],
   "source": [
    "L=['Makaza, 3, 8.5, True']"
   ]
  },
  {
   "cell_type": "code",
   "execution_count": null,
   "id": "60f9ab09",
   "metadata": {},
   "outputs": [],
   "source": [
    "L."
   ]
  }
 ],
 "metadata": {
  "kernelspec": {
   "display_name": "Python 3 (ipykernel)",
   "language": "python",
   "name": "python3"
  },
  "language_info": {
   "codemirror_mode": {
    "name": "ipython",
    "version": 3
   },
   "file_extension": ".py",
   "mimetype": "text/x-python",
   "name": "python",
   "nbconvert_exporter": "python",
   "pygments_lexer": "ipython3",
   "version": "3.9.7"
  }
 },
 "nbformat": 4,
 "nbformat_minor": 5
}
